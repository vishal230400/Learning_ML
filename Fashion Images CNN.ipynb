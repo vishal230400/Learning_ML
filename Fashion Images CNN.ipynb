{
 "cells": [
  {
   "cell_type": "code",
   "execution_count": 38,
   "metadata": {},
   "outputs": [],
   "source": [
    "import torch\n",
    "import os\n",
    "from torchvision import datasets, transforms\n",
    "transform = transforms.Compose([\n",
    "    transforms.Resize((128, 128)),\n",
    "    transforms.ToTensor(),\n",
    "    transforms.Normalize((0.0,), (1,))\n",
    "])\n",
    "data=\"./Fashion Images\"\n",
    "device = torch.device(\"mps\" if torch.backends.mps.is_available() else \"cpu\")\n",
    "trainset = datasets.ImageFolder(root=data+\"/train\", transform=transform)\n",
    "testset = datasets.ImageFolder(root=data+\"/test\", transform=transform)\n",
    "validset = datasets.ImageFolder(root=data+\"/valid\", transform=transform)\n",
    "\n",
    "trainloader = torch.utils.data.DataLoader(dataset=trainset, batch_size=64, shuffle=True)\n",
    "testloader = torch.utils.data.DataLoader(dataset=testset, batch_size=64, shuffle=False)\n",
    "validloader = torch.utils.data.DataLoader(dataset=validset, batch_size=64, shuffle=False)"
   ]
  },
  {
   "cell_type": "code",
   "execution_count": 39,
   "metadata": {},
   "outputs": [
    {
     "name": "stdout",
     "output_type": "stream",
     "text": [
      "{'Female': 0, 'Male': 1}\n"
     ]
    }
   ],
   "source": [
    "print(trainset.class_to_idx)"
   ]
  },
  {
   "cell_type": "code",
   "execution_count": 40,
   "metadata": {},
   "outputs": [
    {
     "name": "stdout",
     "output_type": "stream",
     "text": [
      "torch.Size([64, 3, 128, 128])\n",
      "tensor([0, 0, 0, 0, 0, 0, 0, 0, 0, 0, 0, 0, 0, 0, 0, 1, 1, 0, 1, 1, 0, 0, 0, 0,\n",
      "        1, 0, 0, 0, 0, 0, 0, 0, 0, 0, 0, 0, 0, 0, 0, 0, 0, 0, 0, 0, 0, 0, 0, 0,\n",
      "        0, 0, 0, 0, 0, 0, 1, 0, 0, 0, 1, 0, 0, 0, 0, 0])\n"
     ]
    }
   ],
   "source": [
    "for images, labels in trainloader:\n",
    "    print(images.shape)\n",
    "    print(labels)\n",
    "    break\n"
   ]
  },
  {
   "cell_type": "code",
   "execution_count": 41,
   "metadata": {},
   "outputs": [
    {
     "name": "stdout",
     "output_type": "stream",
     "text": [
      "850 50 100\n",
      "14 1 2\n"
     ]
    }
   ],
   "source": [
    "print(len(trainset),len(testset),len(validset))\n",
    "print(len(trainloader),len(testloader),len(validloader))"
   ]
  },
  {
   "cell_type": "code",
   "execution_count": 42,
   "metadata": {},
   "outputs": [],
   "source": [
    "import torch\n",
    "import torch.nn as nn\n",
    "\n",
    "class CNN(nn.Module):\n",
    "    def __init__(self):\n",
    "        super(CNN, self).__init__()\n",
    "        self.conv1 = nn.Conv2d(in_channels=3, out_channels=32, kernel_size=3, stride=1, padding=1)\n",
    "        self.pool = nn.MaxPool2d(kernel_size=2, stride=2, padding=0)\n",
    "        self.conv2 = nn.Conv2d(in_channels=32, out_channels=64, kernel_size=3, stride=1, padding=1)\n",
    "        self.conv3 = nn.Conv2d(in_channels=64, out_channels=128, kernel_size=3, stride=1, padding=1)\n",
    "        self.fc1 = nn.Linear(128 * 64 * 64, 256)\n",
    "        self.fc2 = nn.Linear(256, 2)\n",
    "\n",
    "    def forward(self, x):\n",
    "        x = self.conv1(x)\n",
    "        x = nn.ReLU()(x)\n",
    "        x = self.pool(x)\n",
    "        x = self.conv2(x)\n",
    "        x = nn.ReLU()(x)\n",
    "        x = self.conv3(x)\n",
    "        x = nn.ReLU()(x)\n",
    "        x = x.view(x.size(0), -1)\n",
    "        x = self.fc1(x)\n",
    "        x = self.fc2(x)\n",
    "        return x\n",
    "\n",
    "model = CNN()"
   ]
  },
  {
   "cell_type": "code",
   "execution_count": 43,
   "metadata": {},
   "outputs": [],
   "source": [
    "criterion = torch.nn.CrossEntropyLoss()\n",
    "optimizer = torch.optim.Adam(model.parameters(), lr=0.001)"
   ]
  },
  {
   "cell_type": "code",
   "execution_count": 44,
   "metadata": {},
   "outputs": [],
   "source": [
    "checkpoint_dir = 'checkpoints_cnn_fashion_images'\n",
    "os.makedirs(checkpoint_dir, exist_ok=True)\n",
    "\n",
    "def find_last_checkpoint():\n",
    "    checkpoints = [f for f in os.listdir(checkpoint_dir) if f.startswith('model_epoch_')]\n",
    "    if not checkpoints:\n",
    "        return None, 0\n",
    "    checkpoints.sort(key=lambda x: int(x.split('_')[-1].split('.')[0]), reverse=True)\n",
    "    last_checkpoint = checkpoints[0]\n",
    "    last_epoch = int(last_checkpoint.split('_')[-1].split('.')[0])\n",
    "    return os.path.join(checkpoint_dir, last_checkpoint), last_epoch"
   ]
  },
  {
   "cell_type": "code",
   "execution_count": 45,
   "metadata": {},
   "outputs": [],
   "source": [
    "def evaluate_model(testloader):\n",
    "    checkpoint_path, start_epoch = find_last_checkpoint()\n",
    "    if checkpoint_path:\n",
    "        print(f\"Loading latest checkpoint from {checkpoint_path}\")\n",
    "        model.load_state_dict(torch.load(checkpoint_path))\n",
    "    else:\n",
    "        print(\"No checkpoint found. Evaluating with the current model state.\")\n",
    "        return \"No checkpoints\"\n",
    "    model.eval()\n",
    "    correct = 0\n",
    "    total = 0\n",
    "    with torch.no_grad():\n",
    "        for inputs, labels in testloader:\n",
    "            inputs, labels = inputs.to(device), labels.to(device)\n",
    "            outputs = model(inputs)\n",
    "            _, predicted = torch.max(outputs, 1)\n",
    "            total += labels.size(0)\n",
    "            correct += (predicted == labels).sum().item()\n",
    "    accuracy = 100 * correct / total\n",
    "    print(f\"Accuracy: {accuracy}%\")\n",
    "    return accuracy"
   ]
  },
  {
   "cell_type": "code",
   "execution_count": 46,
   "metadata": {},
   "outputs": [
    {
     "name": "stdout",
     "output_type": "stream",
     "text": [
      "No checkpoint found. Starting from scratch.\n",
      "Model saved at checkpoints_cnn_fashion_images/model_epoch_1.pth\n",
      "Loading latest checkpoint from checkpoints_cnn_fashion_images/model_epoch_1.pth\n"
     ]
    },
    {
     "name": "stderr",
     "output_type": "stream",
     "text": [
      "/var/folders/tq/jtgfkbln5bv4lmlbq2tvnq1h0000gn/T/ipykernel_78849/2950907048.py:5: FutureWarning: You are using `torch.load` with `weights_only=False` (the current default value), which uses the default pickle module implicitly. It is possible to construct malicious pickle data which will execute arbitrary code during unpickling (See https://github.com/pytorch/pytorch/blob/main/SECURITY.md#untrusted-models for more details). In a future release, the default value for `weights_only` will be flipped to `True`. This limits the functions that could be executed during unpickling. Arbitrary objects will no longer be allowed to be loaded via this mode unless they are explicitly allowlisted by the user via `torch.serialization.add_safe_globals`. We recommend you start setting `weights_only=True` for any use case where you don't have full control of the loaded file. Please open an issue on GitHub for any issues related to this experimental feature.\n",
      "  model.load_state_dict(torch.load(checkpoint_path))\n"
     ]
    },
    {
     "name": "stdout",
     "output_type": "stream",
     "text": [
      "Accuracy: 77.0%\n",
      "Epoch 1, Validation Accuracy: 77.00%, Loss: 3.1687\n",
      "Model saved at checkpoints_cnn_fashion_images/model_epoch_2.pth\n",
      "Loading latest checkpoint from checkpoints_cnn_fashion_images/model_epoch_2.pth\n",
      "Accuracy: 83.0%\n",
      "Epoch 2, Validation Accuracy: 83.00%, Loss: 0.4698\n",
      "Model saved at checkpoints_cnn_fashion_images/model_epoch_3.pth\n",
      "Loading latest checkpoint from checkpoints_cnn_fashion_images/model_epoch_3.pth\n",
      "Accuracy: 85.0%\n",
      "Epoch 3, Validation Accuracy: 85.00%, Loss: 0.4233\n",
      "Model saved at checkpoints_cnn_fashion_images/model_epoch_4.pth\n",
      "Loading latest checkpoint from checkpoints_cnn_fashion_images/model_epoch_4.pth\n",
      "Accuracy: 80.0%\n",
      "Epoch 4, Validation Accuracy: 80.00%, Loss: 0.3624\n",
      "Model saved at checkpoints_cnn_fashion_images/model_epoch_5.pth\n",
      "Loading latest checkpoint from checkpoints_cnn_fashion_images/model_epoch_5.pth\n",
      "Accuracy: 79.0%\n",
      "Epoch 5, Validation Accuracy: 79.00%, Loss: 0.3386\n",
      "Model saved at checkpoints_cnn_fashion_images/model_epoch_6.pth\n",
      "Loading latest checkpoint from checkpoints_cnn_fashion_images/model_epoch_6.pth\n",
      "Accuracy: 90.0%\n",
      "Epoch 6, Validation Accuracy: 90.00%, Loss: 0.3035\n",
      "Model saved at checkpoints_cnn_fashion_images/model_epoch_7.pth\n",
      "Loading latest checkpoint from checkpoints_cnn_fashion_images/model_epoch_7.pth\n",
      "Accuracy: 73.0%\n",
      "Epoch 7, Validation Accuracy: 73.00%, Loss: 0.2172\n",
      "Model saved at checkpoints_cnn_fashion_images/model_epoch_8.pth\n",
      "Loading latest checkpoint from checkpoints_cnn_fashion_images/model_epoch_8.pth\n",
      "Accuracy: 86.0%\n",
      "Epoch 8, Validation Accuracy: 86.00%, Loss: 0.2077\n",
      "Model saved at checkpoints_cnn_fashion_images/model_epoch_9.pth\n",
      "Loading latest checkpoint from checkpoints_cnn_fashion_images/model_epoch_9.pth\n",
      "Accuracy: 85.0%\n",
      "Epoch 9, Validation Accuracy: 85.00%, Loss: 0.1516\n",
      "Model saved at checkpoints_cnn_fashion_images/model_epoch_10.pth\n",
      "Loading latest checkpoint from checkpoints_cnn_fashion_images/model_epoch_10.pth\n",
      "Accuracy: 87.0%\n",
      "Epoch 10, Validation Accuracy: 87.00%, Loss: 0.0911\n",
      "Model saved at checkpoints_cnn_fashion_images/model_epoch_11.pth\n",
      "Loading latest checkpoint from checkpoints_cnn_fashion_images/model_epoch_11.pth\n",
      "Accuracy: 83.0%\n",
      "Epoch 11, Validation Accuracy: 83.00%, Loss: 0.0568\n",
      "Model saved at checkpoints_cnn_fashion_images/model_epoch_12.pth\n",
      "Loading latest checkpoint from checkpoints_cnn_fashion_images/model_epoch_12.pth\n",
      "Accuracy: 85.0%\n",
      "Epoch 12, Validation Accuracy: 85.00%, Loss: 0.0284\n",
      "Model saved at checkpoints_cnn_fashion_images/model_epoch_13.pth\n",
      "Loading latest checkpoint from checkpoints_cnn_fashion_images/model_epoch_13.pth\n",
      "Accuracy: 82.0%\n",
      "Epoch 13, Validation Accuracy: 82.00%, Loss: 0.0478\n",
      "Model saved at checkpoints_cnn_fashion_images/model_epoch_14.pth\n",
      "Loading latest checkpoint from checkpoints_cnn_fashion_images/model_epoch_14.pth\n",
      "Accuracy: 85.0%\n",
      "Epoch 14, Validation Accuracy: 85.00%, Loss: 0.0670\n",
      "Model saved at checkpoints_cnn_fashion_images/model_epoch_15.pth\n",
      "Loading latest checkpoint from checkpoints_cnn_fashion_images/model_epoch_15.pth\n",
      "Accuracy: 79.0%\n",
      "Epoch 15, Validation Accuracy: 79.00%, Loss: 0.0292\n",
      "Model saved at checkpoints_cnn_fashion_images/model_epoch_16.pth\n",
      "Loading latest checkpoint from checkpoints_cnn_fashion_images/model_epoch_16.pth\n",
      "Accuracy: 84.0%\n",
      "Epoch 16, Validation Accuracy: 84.00%, Loss: 0.0204\n",
      "Model saved at checkpoints_cnn_fashion_images/model_epoch_17.pth\n",
      "Loading latest checkpoint from checkpoints_cnn_fashion_images/model_epoch_17.pth\n",
      "Accuracy: 86.0%\n",
      "Epoch 17, Validation Accuracy: 86.00%, Loss: 0.0228\n",
      "Model saved at checkpoints_cnn_fashion_images/model_epoch_18.pth\n",
      "Loading latest checkpoint from checkpoints_cnn_fashion_images/model_epoch_18.pth\n",
      "Accuracy: 84.0%\n",
      "Epoch 18, Validation Accuracy: 84.00%, Loss: 0.0154\n",
      "Model saved at checkpoints_cnn_fashion_images/model_epoch_19.pth\n",
      "Loading latest checkpoint from checkpoints_cnn_fashion_images/model_epoch_19.pth\n",
      "Accuracy: 81.0%\n",
      "Epoch 19, Validation Accuracy: 81.00%, Loss: 0.0121\n",
      "Model saved at checkpoints_cnn_fashion_images/model_epoch_20.pth\n",
      "Loading latest checkpoint from checkpoints_cnn_fashion_images/model_epoch_20.pth\n",
      "Accuracy: 82.0%\n",
      "Epoch 20, Validation Accuracy: 82.00%, Loss: 0.0109\n",
      "Model saved at checkpoints_cnn_fashion_images/model_epoch_21.pth\n",
      "Loading latest checkpoint from checkpoints_cnn_fashion_images/model_epoch_21.pth\n",
      "Accuracy: 85.0%\n",
      "Epoch 21, Validation Accuracy: 85.00%, Loss: 0.0056\n",
      "Model saved at checkpoints_cnn_fashion_images/model_epoch_22.pth\n",
      "Loading latest checkpoint from checkpoints_cnn_fashion_images/model_epoch_22.pth\n",
      "Accuracy: 84.0%\n",
      "Epoch 22, Validation Accuracy: 84.00%, Loss: 0.0027\n",
      "Model saved at checkpoints_cnn_fashion_images/model_epoch_23.pth\n",
      "Loading latest checkpoint from checkpoints_cnn_fashion_images/model_epoch_23.pth\n",
      "Accuracy: 85.0%\n",
      "Epoch 23, Validation Accuracy: 85.00%, Loss: 0.0011\n",
      "Model saved at checkpoints_cnn_fashion_images/model_epoch_24.pth\n",
      "Loading latest checkpoint from checkpoints_cnn_fashion_images/model_epoch_24.pth\n",
      "Accuracy: 85.0%\n",
      "Epoch 24, Validation Accuracy: 85.00%, Loss: 0.0006\n",
      "Model saved at checkpoints_cnn_fashion_images/model_epoch_25.pth\n",
      "Loading latest checkpoint from checkpoints_cnn_fashion_images/model_epoch_25.pth\n",
      "Accuracy: 86.0%\n",
      "Epoch 25, Validation Accuracy: 86.00%, Loss: 0.0003\n",
      "Model saved at checkpoints_cnn_fashion_images/model_epoch_26.pth\n",
      "Loading latest checkpoint from checkpoints_cnn_fashion_images/model_epoch_26.pth\n",
      "Accuracy: 86.0%\n",
      "Epoch 26, Validation Accuracy: 86.00%, Loss: 0.0003\n",
      "Model saved at checkpoints_cnn_fashion_images/model_epoch_27.pth\n",
      "Loading latest checkpoint from checkpoints_cnn_fashion_images/model_epoch_27.pth\n",
      "Accuracy: 86.0%\n",
      "Epoch 27, Validation Accuracy: 86.00%, Loss: 0.0002\n",
      "Model saved at checkpoints_cnn_fashion_images/model_epoch_28.pth\n",
      "Loading latest checkpoint from checkpoints_cnn_fashion_images/model_epoch_28.pth\n",
      "Accuracy: 86.0%\n",
      "Epoch 28, Validation Accuracy: 86.00%, Loss: 0.0002\n",
      "Model saved at checkpoints_cnn_fashion_images/model_epoch_29.pth\n",
      "Loading latest checkpoint from checkpoints_cnn_fashion_images/model_epoch_29.pth\n",
      "Accuracy: 85.0%\n",
      "Epoch 29, Validation Accuracy: 85.00%, Loss: 0.0002\n",
      "Model saved at checkpoints_cnn_fashion_images/model_epoch_30.pth\n",
      "Loading latest checkpoint from checkpoints_cnn_fashion_images/model_epoch_30.pth\n",
      "Accuracy: 86.0%\n",
      "Epoch 30, Validation Accuracy: 86.00%, Loss: 0.0001\n"
     ]
    }
   ],
   "source": [
    "device = torch.device(\"mps\" if torch.backends.mps.is_available() else \"cpu\")\n",
    "model.to(device)\n",
    "def train_model(model, trainloader, criterion, optimizer, num_epochs=10):\n",
    "    checkpoint_path, start_epoch = find_last_checkpoint()\n",
    "    if checkpoint_path:\n",
    "        print(f\"Resuming training from {checkpoint_path}\")\n",
    "        model.load_state_dict(torch.load(checkpoint_path))\n",
    "    else:\n",
    "        print(\"No checkpoint found. Starting from scratch.\")\n",
    "        start_epoch = 0\n",
    "    for epoch in range(start_epoch, num_epochs):\n",
    "        running_loss = 0.0\n",
    "        for inputs, labels in trainloader:\n",
    "            inputs, labels = inputs.to(device), labels.to(device)\n",
    "            optimizer.zero_grad()\n",
    "            outputs = model(inputs)\n",
    "            loss = criterion(outputs, labels)\n",
    "            loss.backward()\n",
    "            optimizer.step()\n",
    "            running_loss += loss.item()\n",
    "        checkpoint_path = os.path.join(checkpoint_dir, f'model_epoch_{epoch + 1}.pth')\n",
    "        torch.save(model.state_dict(), checkpoint_path)\n",
    "        print(f\"Model saved at {checkpoint_path}\")\n",
    "        val_accuracy = evaluate_model(validloader)\n",
    "        if not isinstance(val_accuracy, float):\n",
    "            val_accuracy = float(val_accuracy)\n",
    "        if not isinstance(running_loss, float):\n",
    "            running_loss = float(running_loss)\n",
    "        print(f\"Epoch {epoch+1}, Validation Accuracy: {val_accuracy:.2f}%, Loss: {running_loss / len(trainloader):.4f}\")\n",
    "train_model(model, trainloader, criterion, optimizer, num_epochs=30)"
   ]
  },
  {
   "cell_type": "code",
   "execution_count": 47,
   "metadata": {},
   "outputs": [
    {
     "name": "stdout",
     "output_type": "stream",
     "text": [
      "Loading latest checkpoint from checkpoints_cnn_fashion_images/model_epoch_30.pth\n"
     ]
    },
    {
     "name": "stderr",
     "output_type": "stream",
     "text": [
      "/var/folders/tq/jtgfkbln5bv4lmlbq2tvnq1h0000gn/T/ipykernel_78849/2950907048.py:5: FutureWarning: You are using `torch.load` with `weights_only=False` (the current default value), which uses the default pickle module implicitly. It is possible to construct malicious pickle data which will execute arbitrary code during unpickling (See https://github.com/pytorch/pytorch/blob/main/SECURITY.md#untrusted-models for more details). In a future release, the default value for `weights_only` will be flipped to `True`. This limits the functions that could be executed during unpickling. Arbitrary objects will no longer be allowed to be loaded via this mode unless they are explicitly allowlisted by the user via `torch.serialization.add_safe_globals`. We recommend you start setting `weights_only=True` for any use case where you don't have full control of the loaded file. Please open an issue on GitHub for any issues related to this experimental feature.\n",
      "  model.load_state_dict(torch.load(checkpoint_path))\n"
     ]
    },
    {
     "name": "stdout",
     "output_type": "stream",
     "text": [
      "Accuracy: 84.0%\n",
      "CNN(\n",
      "  (conv1): Conv2d(3, 32, kernel_size=(3, 3), stride=(1, 1), padding=(1, 1))\n",
      "  (pool): MaxPool2d(kernel_size=2, stride=2, padding=0, dilation=1, ceil_mode=False)\n",
      "  (conv2): Conv2d(32, 64, kernel_size=(3, 3), stride=(1, 1), padding=(1, 1))\n",
      "  (conv3): Conv2d(64, 128, kernel_size=(3, 3), stride=(1, 1), padding=(1, 1))\n",
      "  (fc1): Linear(in_features=524288, out_features=256, bias=True)\n",
      "  (fc2): Linear(in_features=256, out_features=2, bias=True)\n",
      ")\n"
     ]
    }
   ],
   "source": [
    "evaluate_model(testloader)\n",
    "print(model)"
   ]
  }
 ],
 "metadata": {
  "kernelspec": {
   "display_name": "pytorch_env",
   "language": "python",
   "name": "python3"
  },
  "language_info": {
   "codemirror_mode": {
    "name": "ipython",
    "version": 3
   },
   "file_extension": ".py",
   "mimetype": "text/x-python",
   "name": "python",
   "nbconvert_exporter": "python",
   "pygments_lexer": "ipython3",
   "version": "3.8.20"
  }
 },
 "nbformat": 4,
 "nbformat_minor": 2
}
