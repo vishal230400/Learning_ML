{
 "cells": [
  {
   "cell_type": "code",
   "execution_count": 36,
   "metadata": {},
   "outputs": [],
   "source": [
    "import torch\n",
    "import os\n",
    "from torchvision import datasets, transforms\n",
    "transform = transforms.Compose([\n",
    "    transforms.ToTensor(),\n",
    "    transforms.Normalize((0.0,), (1,))\n",
    "])\n",
    "data=\"./Fashion Images\"\n",
    "device = torch.device(\"mps\" if torch.backends.mps.is_available() else \"cpu\")\n",
    "trainset = datasets.ImageFolder(root=data+\"/train\", transform=transform)\n",
    "testset = datasets.ImageFolder(root=data+\"/test\", transform=transform)\n",
    "validset = datasets.ImageFolder(root=data+\"/valid\", transform=transform)\n",
    "\n",
    "trainloader = torch.utils.data.DataLoader(dataset=trainset, batch_size=64, shuffle=True)\n",
    "testloader = torch.utils.data.DataLoader(dataset=testset, batch_size=64, shuffle=False)\n",
    "validloader = torch.utils.data.DataLoader(dataset=validset, batch_size=64, shuffle=False)"
   ]
  },
  {
   "cell_type": "code",
   "execution_count": 37,
   "metadata": {},
   "outputs": [
    {
     "name": "stdout",
     "output_type": "stream",
     "text": [
      "{'Female': 0, 'Male': 1}\n"
     ]
    }
   ],
   "source": [
    "print(trainset.class_to_idx)"
   ]
  },
  {
   "cell_type": "code",
   "execution_count": 38,
   "metadata": {},
   "outputs": [
    {
     "name": "stdout",
     "output_type": "stream",
     "text": [
      "torch.Size([64, 3, 640, 640])\n",
      "tensor([1, 0, 0, 1, 0, 1, 0, 1, 1, 0, 0, 0, 0, 0, 0, 0, 0, 0, 0, 0, 0, 0, 0, 1,\n",
      "        0, 0, 0, 0, 0, 0, 1, 0, 0, 1, 0, 0, 0, 0, 0, 0, 0, 0, 0, 1, 1, 0, 0, 0,\n",
      "        0, 0, 0, 0, 0, 0, 0, 0, 0, 0, 0, 0, 1, 0, 0, 0])\n"
     ]
    }
   ],
   "source": [
    "for images, labels in trainloader:\n",
    "    print(images.shape)\n",
    "    print(labels)\n",
    "    break\n"
   ]
  },
  {
   "cell_type": "code",
   "execution_count": 39,
   "metadata": {},
   "outputs": [
    {
     "name": "stdout",
     "output_type": "stream",
     "text": [
      "850 50 100\n",
      "14 1 2\n"
     ]
    }
   ],
   "source": [
    "print(len(trainset),len(testset),len(validset))\n",
    "print(len(trainloader),len(testloader),len(validloader))"
   ]
  },
  {
   "cell_type": "code",
   "execution_count": 40,
   "metadata": {},
   "outputs": [],
   "source": [
    "class MLP(torch.nn.Module):\n",
    "    def __init__(self):\n",
    "        super(MLP, self).__init__()\n",
    "        self.fc1 = torch.nn.Linear(3*640*640, 16)\n",
    "        self.fc2 = torch.nn.Linear(16, 16)\n",
    "        self.fc3 = torch.nn.Linear(16, 2)\n",
    "\n",
    "    def forward(self, x):\n",
    "        x = x.view(-1, 3*640*640)\n",
    "        x = torch.relu(self.fc1(x))\n",
    "        x = torch.relu(self.fc2(x))\n",
    "        x = self.fc3(x)\n",
    "        return x\n",
    "model = MLP()"
   ]
  },
  {
   "cell_type": "code",
   "execution_count": 41,
   "metadata": {},
   "outputs": [],
   "source": [
    "criterion = torch.nn.CrossEntropyLoss()\n",
    "optimizer = torch.optim.Adam(model.parameters(), lr=0.001)"
   ]
  },
  {
   "cell_type": "code",
   "execution_count": 42,
   "metadata": {},
   "outputs": [],
   "source": [
    "checkpoint_dir = 'checkpoints_mlp_fashion_images'\n",
    "os.makedirs(checkpoint_dir, exist_ok=True)\n",
    "\n",
    "def find_last_checkpoint():\n",
    "    checkpoints = [f for f in os.listdir(checkpoint_dir) if f.startswith('model_epoch_')]\n",
    "    if not checkpoints:\n",
    "        return None, 0\n",
    "    checkpoints.sort(key=lambda x: int(x.split('_')[-1].split('.')[0]), reverse=True)\n",
    "    last_checkpoint = checkpoints[0]\n",
    "    last_epoch = int(last_checkpoint.split('_')[-1].split('.')[0])\n",
    "    return os.path.join(checkpoint_dir, last_checkpoint), last_epoch"
   ]
  },
  {
   "cell_type": "code",
   "execution_count": 43,
   "metadata": {},
   "outputs": [],
   "source": [
    "def evaluate_model(testloader):\n",
    "    checkpoint_path, start_epoch = find_last_checkpoint()\n",
    "    if checkpoint_path:\n",
    "        print(f\"Loading latest checkpoint from {checkpoint_path}\")\n",
    "        model.load_state_dict(torch.load(checkpoint_path))\n",
    "    else:\n",
    "        print(\"No checkpoint found. Evaluating with the current model state.\")\n",
    "        return \"No checkpoints\"\n",
    "    model.eval()\n",
    "    correct = 0\n",
    "    total = 0\n",
    "    with torch.no_grad():\n",
    "        for inputs, labels in testloader:\n",
    "            inputs, labels = inputs.to(device), labels.to(device)\n",
    "            outputs = model(inputs)\n",
    "            _, predicted = torch.max(outputs, 1)\n",
    "            total += labels.size(0)\n",
    "            correct += (predicted == labels).sum().item()\n",
    "    accuracy = 100 * correct / total\n",
    "    print(f\"Accuracy: {accuracy}%\")\n",
    "    return accuracy"
   ]
  },
  {
   "cell_type": "code",
   "execution_count": 44,
   "metadata": {},
   "outputs": [
    {
     "name": "stdout",
     "output_type": "stream",
     "text": [
      "Resuming training from checkpoints_mlp_fashion_images/model_epoch_15.pth\n"
     ]
    },
    {
     "name": "stderr",
     "output_type": "stream",
     "text": [
      "/var/folders/tq/jtgfkbln5bv4lmlbq2tvnq1h0000gn/T/ipykernel_76802/178171145.py:7: FutureWarning: You are using `torch.load` with `weights_only=False` (the current default value), which uses the default pickle module implicitly. It is possible to construct malicious pickle data which will execute arbitrary code during unpickling (See https://github.com/pytorch/pytorch/blob/main/SECURITY.md#untrusted-models for more details). In a future release, the default value for `weights_only` will be flipped to `True`. This limits the functions that could be executed during unpickling. Arbitrary objects will no longer be allowed to be loaded via this mode unless they are explicitly allowlisted by the user via `torch.serialization.add_safe_globals`. We recommend you start setting `weights_only=True` for any use case where you don't have full control of the loaded file. Please open an issue on GitHub for any issues related to this experimental feature.\n",
      "  model.load_state_dict(torch.load(checkpoint_path))\n"
     ]
    },
    {
     "name": "stdout",
     "output_type": "stream",
     "text": [
      "Model saved at checkpoints_mlp_fashion_images/model_epoch_16.pth\n",
      "Loading latest checkpoint from checkpoints_mlp_fashion_images/model_epoch_16.pth\n"
     ]
    },
    {
     "name": "stderr",
     "output_type": "stream",
     "text": [
      "/var/folders/tq/jtgfkbln5bv4lmlbq2tvnq1h0000gn/T/ipykernel_76802/2950907048.py:5: FutureWarning: You are using `torch.load` with `weights_only=False` (the current default value), which uses the default pickle module implicitly. It is possible to construct malicious pickle data which will execute arbitrary code during unpickling (See https://github.com/pytorch/pytorch/blob/main/SECURITY.md#untrusted-models for more details). In a future release, the default value for `weights_only` will be flipped to `True`. This limits the functions that could be executed during unpickling. Arbitrary objects will no longer be allowed to be loaded via this mode unless they are explicitly allowlisted by the user via `torch.serialization.add_safe_globals`. We recommend you start setting `weights_only=True` for any use case where you don't have full control of the loaded file. Please open an issue on GitHub for any issues related to this experimental feature.\n",
      "  model.load_state_dict(torch.load(checkpoint_path))\n"
     ]
    },
    {
     "name": "stdout",
     "output_type": "stream",
     "text": [
      "Accuracy: 23.0%\n",
      "Epoch 16, Validation Accuracy: 23.00%, Loss: 61.7115\n",
      "Model saved at checkpoints_mlp_fashion_images/model_epoch_17.pth\n",
      "Loading latest checkpoint from checkpoints_mlp_fashion_images/model_epoch_17.pth\n",
      "Accuracy: 80.0%\n",
      "Epoch 17, Validation Accuracy: 80.00%, Loss: 10.0451\n",
      "Model saved at checkpoints_mlp_fashion_images/model_epoch_18.pth\n",
      "Loading latest checkpoint from checkpoints_mlp_fashion_images/model_epoch_18.pth\n",
      "Accuracy: 58.0%\n",
      "Epoch 18, Validation Accuracy: 58.00%, Loss: 4.1673\n",
      "Model saved at checkpoints_mlp_fashion_images/model_epoch_19.pth\n",
      "Loading latest checkpoint from checkpoints_mlp_fashion_images/model_epoch_19.pth\n",
      "Accuracy: 80.0%\n",
      "Epoch 19, Validation Accuracy: 80.00%, Loss: 1.2012\n",
      "Model saved at checkpoints_mlp_fashion_images/model_epoch_20.pth\n",
      "Loading latest checkpoint from checkpoints_mlp_fashion_images/model_epoch_20.pth\n",
      "Accuracy: 80.0%\n",
      "Epoch 20, Validation Accuracy: 80.00%, Loss: 0.4700\n",
      "Model saved at checkpoints_mlp_fashion_images/model_epoch_21.pth\n",
      "Loading latest checkpoint from checkpoints_mlp_fashion_images/model_epoch_21.pth\n",
      "Accuracy: 79.0%\n",
      "Epoch 21, Validation Accuracy: 79.00%, Loss: 0.3665\n",
      "Model saved at checkpoints_mlp_fashion_images/model_epoch_22.pth\n",
      "Loading latest checkpoint from checkpoints_mlp_fashion_images/model_epoch_22.pth\n",
      "Accuracy: 82.0%\n",
      "Epoch 22, Validation Accuracy: 82.00%, Loss: 0.3107\n",
      "Model saved at checkpoints_mlp_fashion_images/model_epoch_23.pth\n",
      "Loading latest checkpoint from checkpoints_mlp_fashion_images/model_epoch_23.pth\n",
      "Accuracy: 83.0%\n",
      "Epoch 23, Validation Accuracy: 83.00%, Loss: 0.1240\n",
      "Model saved at checkpoints_mlp_fashion_images/model_epoch_24.pth\n",
      "Loading latest checkpoint from checkpoints_mlp_fashion_images/model_epoch_24.pth\n",
      "Accuracy: 81.0%\n",
      "Epoch 24, Validation Accuracy: 81.00%, Loss: 0.1675\n",
      "Model saved at checkpoints_mlp_fashion_images/model_epoch_25.pth\n",
      "Loading latest checkpoint from checkpoints_mlp_fashion_images/model_epoch_25.pth\n",
      "Accuracy: 82.0%\n",
      "Epoch 25, Validation Accuracy: 82.00%, Loss: 0.3402\n",
      "Model saved at checkpoints_mlp_fashion_images/model_epoch_26.pth\n",
      "Loading latest checkpoint from checkpoints_mlp_fashion_images/model_epoch_26.pth\n",
      "Accuracy: 83.0%\n",
      "Epoch 26, Validation Accuracy: 83.00%, Loss: 0.1706\n",
      "Model saved at checkpoints_mlp_fashion_images/model_epoch_27.pth\n",
      "Loading latest checkpoint from checkpoints_mlp_fashion_images/model_epoch_27.pth\n",
      "Accuracy: 79.0%\n",
      "Epoch 27, Validation Accuracy: 79.00%, Loss: 0.2714\n",
      "Model saved at checkpoints_mlp_fashion_images/model_epoch_28.pth\n",
      "Loading latest checkpoint from checkpoints_mlp_fashion_images/model_epoch_28.pth\n",
      "Accuracy: 83.0%\n",
      "Epoch 28, Validation Accuracy: 83.00%, Loss: 0.6248\n",
      "Model saved at checkpoints_mlp_fashion_images/model_epoch_29.pth\n",
      "Loading latest checkpoint from checkpoints_mlp_fashion_images/model_epoch_29.pth\n",
      "Accuracy: 81.0%\n",
      "Epoch 29, Validation Accuracy: 81.00%, Loss: 0.4095\n",
      "Model saved at checkpoints_mlp_fashion_images/model_epoch_30.pth\n",
      "Loading latest checkpoint from checkpoints_mlp_fashion_images/model_epoch_30.pth\n",
      "Accuracy: 81.0%\n",
      "Epoch 30, Validation Accuracy: 81.00%, Loss: 0.1369\n"
     ]
    }
   ],
   "source": [
    "device = torch.device(\"mps\" if torch.backends.mps.is_available() else \"cpu\")\n",
    "model.to(device)\n",
    "def train_model(model, trainloader, criterion, optimizer, num_epochs=10):\n",
    "    checkpoint_path, start_epoch = find_last_checkpoint()\n",
    "    if checkpoint_path:\n",
    "        print(f\"Resuming training from {checkpoint_path}\")\n",
    "        model.load_state_dict(torch.load(checkpoint_path))\n",
    "    else:\n",
    "        print(\"No checkpoint found. Starting from scratch.\")\n",
    "        start_epoch = 0\n",
    "    for epoch in range(start_epoch, num_epochs):\n",
    "        running_loss = 0.0\n",
    "        for inputs, labels in trainloader:\n",
    "            inputs, labels = inputs.to(device), labels.to(device)\n",
    "            optimizer.zero_grad()\n",
    "            outputs = model(inputs)\n",
    "            loss = criterion(outputs, labels)\n",
    "            loss.backward()\n",
    "            optimizer.step()\n",
    "            running_loss += loss.item()\n",
    "        checkpoint_path = os.path.join(checkpoint_dir, f'model_epoch_{epoch + 1}.pth')\n",
    "        torch.save(model.state_dict(), checkpoint_path)\n",
    "        print(f\"Model saved at {checkpoint_path}\")\n",
    "        val_accuracy = evaluate_model(validloader)\n",
    "        if not isinstance(val_accuracy, float):\n",
    "            val_accuracy = float(val_accuracy)\n",
    "        if not isinstance(running_loss, float):\n",
    "            running_loss = float(running_loss)\n",
    "        print(f\"Epoch {epoch+1}, Validation Accuracy: {val_accuracy:.2f}%, Loss: {running_loss / len(trainloader):.4f}\")\n",
    "train_model(model, trainloader, criterion, optimizer, num_epochs=30)"
   ]
  },
  {
   "cell_type": "code",
   "execution_count": 45,
   "metadata": {},
   "outputs": [
    {
     "name": "stdout",
     "output_type": "stream",
     "text": [
      "Loading latest checkpoint from checkpoints_mlp_fashion_images/model_epoch_30.pth\n"
     ]
    },
    {
     "name": "stderr",
     "output_type": "stream",
     "text": [
      "/var/folders/tq/jtgfkbln5bv4lmlbq2tvnq1h0000gn/T/ipykernel_76802/2950907048.py:5: FutureWarning: You are using `torch.load` with `weights_only=False` (the current default value), which uses the default pickle module implicitly. It is possible to construct malicious pickle data which will execute arbitrary code during unpickling (See https://github.com/pytorch/pytorch/blob/main/SECURITY.md#untrusted-models for more details). In a future release, the default value for `weights_only` will be flipped to `True`. This limits the functions that could be executed during unpickling. Arbitrary objects will no longer be allowed to be loaded via this mode unless they are explicitly allowlisted by the user via `torch.serialization.add_safe_globals`. We recommend you start setting `weights_only=True` for any use case where you don't have full control of the loaded file. Please open an issue on GitHub for any issues related to this experimental feature.\n",
      "  model.load_state_dict(torch.load(checkpoint_path))\n"
     ]
    },
    {
     "name": "stdout",
     "output_type": "stream",
     "text": [
      "Accuracy: 88.0%\n",
      "MLP(\n",
      "  (fc1): Linear(in_features=1228800, out_features=16, bias=True)\n",
      "  (fc2): Linear(in_features=16, out_features=16, bias=True)\n",
      "  (fc3): Linear(in_features=16, out_features=2, bias=True)\n",
      ")\n"
     ]
    }
   ],
   "source": [
    "evaluate_model(testloader)\n",
    "print(model)"
   ]
  }
 ],
 "metadata": {
  "kernelspec": {
   "display_name": "pytorch_env",
   "language": "python",
   "name": "python3"
  },
  "language_info": {
   "codemirror_mode": {
    "name": "ipython",
    "version": 3
   },
   "file_extension": ".py",
   "mimetype": "text/x-python",
   "name": "python",
   "nbconvert_exporter": "python",
   "pygments_lexer": "ipython3",
   "version": "3.8.20"
  }
 },
 "nbformat": 4,
 "nbformat_minor": 2
}
